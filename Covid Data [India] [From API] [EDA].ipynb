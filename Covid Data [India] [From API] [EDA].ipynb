{
 "cells": [
  {
   "cell_type": "markdown",
   "metadata": {},
   "source": [
    "# Extract the Corona Virus Cases in India data from an API"
   ]
  },
  {
   "cell_type": "code",
   "execution_count": 1,
   "metadata": {},
   "outputs": [],
   "source": [
    "# library for data manipulation\n",
    "import pandas as pd\n",
    "\n",
    "# library for advance mathematical operations\n",
    "import numpy as np\n",
    "\n",
    "# library for visualization\n",
    "import matplotlib.pyplot as plt\n",
    "import seaborn as sns\n",
    "\n",
    "# library for dealing with json data\n",
    "import json"
   ]
  },
  {
   "cell_type": "markdown",
   "metadata": {},
   "source": [
    "# Reading the json data from the file"
   ]
  },
  {
   "cell_type": "code",
   "execution_count": 2,
   "metadata": {},
   "outputs": [],
   "source": [
    "# load the saved json file\n",
    "covid_data = json.load(open('covid.json'))"
   ]
  },
  {
   "cell_type": "code",
   "execution_count": 3,
   "metadata": {},
   "outputs": [
    {
     "data": {
      "text/plain": [
       "dict"
      ]
     },
     "execution_count": 3,
     "metadata": {},
     "output_type": "execute_result"
    }
   ],
   "source": [
    "# check the datatype covid_data\n",
    "type(covid_data)"
   ]
  },
  {
   "cell_type": "code",
   "execution_count": 4,
   "metadata": {},
   "outputs": [
    {
     "data": {
      "text/plain": [
       "{'success': True,\n",
       " 'data': {'summary': {'total': 40263,\n",
       "   'confirmedCasesIndian': 40013,\n",
       "   'confirmedCasesForeign': 111,\n",
       "   'discharged': 10887,\n",
       "   'deaths': 1306,\n",
       "   'confirmedButLocationUnidentified': 139},\n",
       "  'unofficial-summary': [{'source': 'covid19india.org',\n",
       "    'total': 42505,\n",
       "    'recovered': 11775,\n",
       "    'deaths': 1391,\n",
       "    'active': 29335}],\n",
       "  'regional': [{'loc': 'Andaman and Nicobar Islands',\n",
       "    'confirmedCasesIndian': 33,\n",
       "    'discharged': 17,\n",
       "    'deaths': 0,\n",
       "    'confirmedCasesForeign': 0,\n",
       "    'totalConfirmed': 33},\n",
       "   {'loc': 'Andhra Pradesh',\n",
       "    'confirmedCasesIndian': 1583,\n",
       "    'discharged': 488,\n",
       "    'deaths': 33,\n",
       "    'confirmedCasesForeign': 0,\n",
       "    'totalConfirmed': 1583},\n",
       "   {'loc': 'Arunachal Pradesh',\n",
       "    'confirmedCasesIndian': 1,\n",
       "    'discharged': 1,\n",
       "    'deaths': 0,\n",
       "    'confirmedCasesForeign': 0,\n",
       "    'totalConfirmed': 1},\n",
       "   {'loc': 'Assam',\n",
       "    'confirmedCasesIndian': 43,\n",
       "    'discharged': 32,\n",
       "    'deaths': 1,\n",
       "    'confirmedCasesForeign': 0,\n",
       "    'totalConfirmed': 43},\n",
       "   {'loc': 'Bihar',\n",
       "    'confirmedCasesIndian': 482,\n",
       "    'discharged': 117,\n",
       "    'deaths': 4,\n",
       "    'confirmedCasesForeign': 0,\n",
       "    'totalConfirmed': 482},\n",
       "   {'loc': 'Chandigarh',\n",
       "    'confirmedCasesIndian': 94,\n",
       "    'discharged': 19,\n",
       "    'deaths': 0,\n",
       "    'confirmedCasesForeign': 0,\n",
       "    'totalConfirmed': 94},\n",
       "   {'loc': 'Chhattisgarh',\n",
       "    'confirmedCasesIndian': 43,\n",
       "    'discharged': 36,\n",
       "    'deaths': 0,\n",
       "    'confirmedCasesForeign': 0,\n",
       "    'totalConfirmed': 43},\n",
       "   {'loc': 'Delhi',\n",
       "    'confirmedCasesIndian': 4121,\n",
       "    'discharged': 1256,\n",
       "    'deaths': 64,\n",
       "    'confirmedCasesForeign': 1,\n",
       "    'totalConfirmed': 4122},\n",
       "   {'loc': 'Goa',\n",
       "    'confirmedCasesIndian': 6,\n",
       "    'discharged': 7,\n",
       "    'deaths': 0,\n",
       "    'confirmedCasesForeign': 1,\n",
       "    'totalConfirmed': 7},\n",
       "   {'loc': 'Gujarat',\n",
       "    'confirmedCasesIndian': 5054,\n",
       "    'discharged': 896,\n",
       "    'deaths': 262,\n",
       "    'confirmedCasesForeign': 1,\n",
       "    'totalConfirmed': 5055},\n",
       "   {'loc': 'Haryana',\n",
       "    'confirmedCasesIndian': 380,\n",
       "    'discharged': 227,\n",
       "    'deaths': 4,\n",
       "    'confirmedCasesForeign': 14,\n",
       "    'totalConfirmed': 394},\n",
       "   {'loc': 'Himachal Pradesh',\n",
       "    'confirmedCasesIndian': 40,\n",
       "    'discharged': 33,\n",
       "    'deaths': 1,\n",
       "    'confirmedCasesForeign': 0,\n",
       "    'totalConfirmed': 40},\n",
       "   {'loc': 'Jammu and Kashmir',\n",
       "    'confirmedCasesIndian': 666,\n",
       "    'discharged': 254,\n",
       "    'deaths': 8,\n",
       "    'confirmedCasesForeign': 0,\n",
       "    'totalConfirmed': 666},\n",
       "   {'loc': 'Jharkhand',\n",
       "    'confirmedCasesIndian': 115,\n",
       "    'discharged': 22,\n",
       "    'deaths': 3,\n",
       "    'confirmedCasesForeign': 0,\n",
       "    'totalConfirmed': 115},\n",
       "   {'loc': 'Karnataka',\n",
       "    'confirmedCasesIndian': 606,\n",
       "    'discharged': 282,\n",
       "    'deaths': 25,\n",
       "    'confirmedCasesForeign': 0,\n",
       "    'totalConfirmed': 606},\n",
       "   {'loc': 'Kerala',\n",
       "    'confirmedCasesIndian': 492,\n",
       "    'discharged': 400,\n",
       "    'deaths': 4,\n",
       "    'confirmedCasesForeign': 8,\n",
       "    'totalConfirmed': 500},\n",
       "   {'loc': 'Ladakh',\n",
       "    'confirmedCasesIndian': 40,\n",
       "    'discharged': 17,\n",
       "    'deaths': 0,\n",
       "    'confirmedCasesForeign': 0,\n",
       "    'totalConfirmed': 40},\n",
       "   {'loc': 'Madhya Pradesh',\n",
       "    'confirmedCasesIndian': 2846,\n",
       "    'discharged': 798,\n",
       "    'deaths': 156,\n",
       "    'confirmedCasesForeign': 0,\n",
       "    'totalConfirmed': 2846},\n",
       "   {'loc': 'Maharashtra',\n",
       "    'confirmedCasesIndian': 12293,\n",
       "    'discharged': 2000,\n",
       "    'deaths': 521,\n",
       "    'confirmedCasesForeign': 3,\n",
       "    'totalConfirmed': 12296},\n",
       "   {'loc': 'Manipur',\n",
       "    'confirmedCasesIndian': 2,\n",
       "    'discharged': 2,\n",
       "    'deaths': 0,\n",
       "    'confirmedCasesForeign': 0,\n",
       "    'totalConfirmed': 2},\n",
       "   {'loc': 'Meghalaya',\n",
       "    'confirmedCasesIndian': 12,\n",
       "    'discharged': 0,\n",
       "    'deaths': 1,\n",
       "    'confirmedCasesForeign': 0,\n",
       "    'totalConfirmed': 12},\n",
       "   {'loc': 'Mizoram',\n",
       "    'confirmedCasesIndian': 1,\n",
       "    'discharged': 0,\n",
       "    'deaths': 0,\n",
       "    'confirmedCasesForeign': 0,\n",
       "    'totalConfirmed': 1},\n",
       "   {'loc': 'Odisha',\n",
       "    'confirmedCasesIndian': 160,\n",
       "    'discharged': 56,\n",
       "    'deaths': 1,\n",
       "    'confirmedCasesForeign': 0,\n",
       "    'totalConfirmed': 160},\n",
       "   {'loc': 'Puducherry',\n",
       "    'confirmedCasesIndian': 8,\n",
       "    'discharged': 5,\n",
       "    'deaths': 0,\n",
       "    'confirmedCasesForeign': 0,\n",
       "    'totalConfirmed': 8},\n",
       "   {'loc': 'Punjab',\n",
       "    'confirmedCasesIndian': 772,\n",
       "    'discharged': 112,\n",
       "    'deaths': 20,\n",
       "    'confirmedCasesForeign': 0,\n",
       "    'totalConfirmed': 772},\n",
       "   {'loc': 'Rajasthan',\n",
       "    'confirmedCasesIndian': 2770,\n",
       "    'discharged': 1121,\n",
       "    'deaths': 65,\n",
       "    'confirmedCasesForeign': 2,\n",
       "    'totalConfirmed': 2772},\n",
       "   {'loc': 'Tamil Nadu',\n",
       "    'confirmedCasesIndian': 2751,\n",
       "    'discharged': 1341,\n",
       "    'deaths': 29,\n",
       "    'confirmedCasesForeign': 6,\n",
       "    'totalConfirmed': 2757},\n",
       "   {'loc': 'Telengana',\n",
       "    'confirmedCasesIndian': 1053,\n",
       "    'discharged': 458,\n",
       "    'deaths': 28,\n",
       "    'confirmedCasesForeign': 10,\n",
       "    'totalConfirmed': 1063},\n",
       "   {'loc': 'Tripura',\n",
       "    'confirmedCasesIndian': 4,\n",
       "    'discharged': 2,\n",
       "    'deaths': 0,\n",
       "    'confirmedCasesForeign': 0,\n",
       "    'totalConfirmed': 4},\n",
       "   {'loc': 'Uttarakhand',\n",
       "    'confirmedCasesIndian': 58,\n",
       "    'discharged': 39,\n",
       "    'deaths': 0,\n",
       "    'confirmedCasesForeign': 1,\n",
       "    'totalConfirmed': 59},\n",
       "   {'loc': 'Uttar Pradesh',\n",
       "    'confirmedCasesIndian': 2625,\n",
       "    'discharged': 698,\n",
       "    'deaths': 43,\n",
       "    'confirmedCasesForeign': 1,\n",
       "    'totalConfirmed': 2626},\n",
       "   {'loc': 'West Bengal',\n",
       "    'confirmedCasesIndian': 922,\n",
       "    'discharged': 151,\n",
       "    'deaths': 33,\n",
       "    'confirmedCasesForeign': 0,\n",
       "    'totalConfirmed': 922}]},\n",
       " 'lastRefreshed': '2020-05-03T19:06:01.300Z',\n",
       " 'lastOriginUpdate': '2020-05-03T11:30:00.000Z'}"
      ]
     },
     "execution_count": 4,
     "metadata": {},
     "output_type": "execute_result"
    }
   ],
   "source": [
    "covid_data"
   ]
  },
  {
   "cell_type": "markdown",
   "metadata": {},
   "source": [
    "# Reading the json data directly from the api"
   ]
  },
  {
   "cell_type": "code",
   "execution_count": 5,
   "metadata": {},
   "outputs": [],
   "source": [
    "import requests"
   ]
  },
  {
   "cell_type": "code",
   "execution_count": 6,
   "metadata": {},
   "outputs": [],
   "source": [
    "# read the data directly from the api\n",
    "covid_data_req = requests.get('https://api.rootnet.in/covid19-in/stats/latest')"
   ]
  },
  {
   "cell_type": "code",
   "execution_count": 7,
   "metadata": {},
   "outputs": [],
   "source": [
    "# get the data in text format\n",
    "covid_data_text = covid_data_req.text"
   ]
  },
  {
   "cell_type": "code",
   "execution_count": 8,
   "metadata": {},
   "outputs": [],
   "source": [
    "# load the json data\n",
    "covid_data = json.loads(covid_data_text)"
   ]
  },
  {
   "cell_type": "markdown",
   "metadata": {},
   "source": [
    "# Timestamp when the data was refreshed"
   ]
  },
  {
   "cell_type": "code",
   "execution_count": 9,
   "metadata": {},
   "outputs": [
    {
     "data": {
      "text/plain": [
       "'2020-05-03T20:06:02.058Z'"
      ]
     },
     "execution_count": 9,
     "metadata": {},
     "output_type": "execute_result"
    }
   ],
   "source": [
    "# accessing the value of the key 'lastrefreshed'\n",
    "covid_data['lastRefreshed']"
   ]
  },
  {
   "cell_type": "code",
   "execution_count": 10,
   "metadata": {},
   "outputs": [
    {
     "name": "stdout",
     "output_type": "stream",
     "text": [
      "This data was last refreshed on the date:  2020-05-03\n",
      "This data was last refreshed at the time:  20:06:02\n"
     ]
    }
   ],
   "source": [
    "last_refreshed_date = covid_data['lastRefreshed'].split('T')[0]\n",
    "last_refreshed_time = covid_data['lastRefreshed'].split('T')[1].split('.')[0]\n",
    "\n",
    "print('This data was last refreshed on the date: ', last_refreshed_date)\n",
    "print('This data was last refreshed at the time: ', last_refreshed_time)"
   ]
  },
  {
   "cell_type": "markdown",
   "metadata": {},
   "source": [
    "# Summary of cases for India"
   ]
  },
  {
   "cell_type": "code",
   "execution_count": 11,
   "metadata": {},
   "outputs": [
    {
     "data": {
      "text/plain": [
       "total                               40263\n",
       "confirmedCasesIndian                40013\n",
       "confirmedCasesForeign                 111\n",
       "discharged                          10887\n",
       "deaths                               1306\n",
       "confirmedButLocationUnidentified      139\n",
       "dtype: int64"
      ]
     },
     "execution_count": 11,
     "metadata": {},
     "output_type": "execute_result"
    }
   ],
   "source": [
    "# accessing the key 'summary' to get the total summary of corona cases in India\n",
    "pd.Series(covid_data['data']['summary'])"
   ]
  },
  {
   "cell_type": "markdown",
   "metadata": {},
   "source": [
    "# Creating a dataframe for the regional data"
   ]
  },
  {
   "cell_type": "code",
   "execution_count": 12,
   "metadata": {},
   "outputs": [],
   "source": [
    "# accessing the regional data\n",
    "df_corona = pd.DataFrame(covid_data['data']['regional'])"
   ]
  },
  {
   "cell_type": "code",
   "execution_count": 13,
   "metadata": {},
   "outputs": [
    {
     "data": {
      "text/html": [
       "<div>\n",
       "<style scoped>\n",
       "    .dataframe tbody tr th:only-of-type {\n",
       "        vertical-align: middle;\n",
       "    }\n",
       "\n",
       "    .dataframe tbody tr th {\n",
       "        vertical-align: top;\n",
       "    }\n",
       "\n",
       "    .dataframe thead th {\n",
       "        text-align: right;\n",
       "    }\n",
       "</style>\n",
       "<table border=\"1\" class=\"dataframe\">\n",
       "  <thead>\n",
       "    <tr style=\"text-align: right;\">\n",
       "      <th></th>\n",
       "      <th>loc</th>\n",
       "      <th>confirmedCasesIndian</th>\n",
       "      <th>discharged</th>\n",
       "      <th>deaths</th>\n",
       "      <th>confirmedCasesForeign</th>\n",
       "      <th>totalConfirmed</th>\n",
       "    </tr>\n",
       "  </thead>\n",
       "  <tbody>\n",
       "    <tr>\n",
       "      <td>0</td>\n",
       "      <td>Andaman and Nicobar Islands</td>\n",
       "      <td>33</td>\n",
       "      <td>17</td>\n",
       "      <td>0</td>\n",
       "      <td>0</td>\n",
       "      <td>33</td>\n",
       "    </tr>\n",
       "    <tr>\n",
       "      <td>1</td>\n",
       "      <td>Andhra Pradesh</td>\n",
       "      <td>1583</td>\n",
       "      <td>488</td>\n",
       "      <td>33</td>\n",
       "      <td>0</td>\n",
       "      <td>1583</td>\n",
       "    </tr>\n",
       "    <tr>\n",
       "      <td>2</td>\n",
       "      <td>Arunachal Pradesh</td>\n",
       "      <td>1</td>\n",
       "      <td>1</td>\n",
       "      <td>0</td>\n",
       "      <td>0</td>\n",
       "      <td>1</td>\n",
       "    </tr>\n",
       "    <tr>\n",
       "      <td>3</td>\n",
       "      <td>Assam</td>\n",
       "      <td>43</td>\n",
       "      <td>32</td>\n",
       "      <td>1</td>\n",
       "      <td>0</td>\n",
       "      <td>43</td>\n",
       "    </tr>\n",
       "    <tr>\n",
       "      <td>4</td>\n",
       "      <td>Bihar</td>\n",
       "      <td>482</td>\n",
       "      <td>117</td>\n",
       "      <td>4</td>\n",
       "      <td>0</td>\n",
       "      <td>482</td>\n",
       "    </tr>\n",
       "  </tbody>\n",
       "</table>\n",
       "</div>"
      ],
      "text/plain": [
       "                           loc  confirmedCasesIndian  discharged  deaths  \\\n",
       "0  Andaman and Nicobar Islands                    33          17       0   \n",
       "1               Andhra Pradesh                  1583         488      33   \n",
       "2            Arunachal Pradesh                     1           1       0   \n",
       "3                        Assam                    43          32       1   \n",
       "4                        Bihar                   482         117       4   \n",
       "\n",
       "   confirmedCasesForeign  totalConfirmed  \n",
       "0                      0              33  \n",
       "1                      0            1583  \n",
       "2                      0               1  \n",
       "3                      0              43  \n",
       "4                      0             482  "
      ]
     },
     "execution_count": 13,
     "metadata": {},
     "output_type": "execute_result"
    }
   ],
   "source": [
    "df_corona.head()"
   ]
  },
  {
   "cell_type": "code",
   "execution_count": 14,
   "metadata": {},
   "outputs": [
    {
     "name": "stdout",
     "output_type": "stream",
     "text": [
      "<class 'pandas.core.frame.DataFrame'>\n",
      "RangeIndex: 32 entries, 0 to 31\n",
      "Data columns (total 6 columns):\n",
      "loc                      32 non-null object\n",
      "confirmedCasesIndian     32 non-null int64\n",
      "discharged               32 non-null int64\n",
      "deaths                   32 non-null int64\n",
      "confirmedCasesForeign    32 non-null int64\n",
      "totalConfirmed           32 non-null int64\n",
      "dtypes: int64(5), object(1)\n",
      "memory usage: 1.6+ KB\n"
     ]
    }
   ],
   "source": [
    "df_corona.info()"
   ]
  },
  {
   "cell_type": "code",
   "execution_count": 15,
   "metadata": {},
   "outputs": [],
   "source": [
    "# changing the column names\n",
    "df_corona.columns = ['Location', 'Confirmed Cases [Indian]', 'Discharged', 'Deaths', 'Confirmed Cases [Foreign]', 'Total Confirmed Cases']"
   ]
  },
  {
   "cell_type": "code",
   "execution_count": 16,
   "metadata": {},
   "outputs": [
    {
     "data": {
      "text/html": [
       "<div>\n",
       "<style scoped>\n",
       "    .dataframe tbody tr th:only-of-type {\n",
       "        vertical-align: middle;\n",
       "    }\n",
       "\n",
       "    .dataframe tbody tr th {\n",
       "        vertical-align: top;\n",
       "    }\n",
       "\n",
       "    .dataframe thead th {\n",
       "        text-align: right;\n",
       "    }\n",
       "</style>\n",
       "<table border=\"1\" class=\"dataframe\">\n",
       "  <thead>\n",
       "    <tr style=\"text-align: right;\">\n",
       "      <th></th>\n",
       "      <th>Location</th>\n",
       "      <th>Confirmed Cases [Indian]</th>\n",
       "      <th>Discharged</th>\n",
       "      <th>Deaths</th>\n",
       "      <th>Confirmed Cases [Foreign]</th>\n",
       "      <th>Total Confirmed Cases</th>\n",
       "    </tr>\n",
       "  </thead>\n",
       "  <tbody>\n",
       "    <tr>\n",
       "      <td>0</td>\n",
       "      <td>Andaman and Nicobar Islands</td>\n",
       "      <td>33</td>\n",
       "      <td>17</td>\n",
       "      <td>0</td>\n",
       "      <td>0</td>\n",
       "      <td>33</td>\n",
       "    </tr>\n",
       "    <tr>\n",
       "      <td>1</td>\n",
       "      <td>Andhra Pradesh</td>\n",
       "      <td>1583</td>\n",
       "      <td>488</td>\n",
       "      <td>33</td>\n",
       "      <td>0</td>\n",
       "      <td>1583</td>\n",
       "    </tr>\n",
       "    <tr>\n",
       "      <td>2</td>\n",
       "      <td>Arunachal Pradesh</td>\n",
       "      <td>1</td>\n",
       "      <td>1</td>\n",
       "      <td>0</td>\n",
       "      <td>0</td>\n",
       "      <td>1</td>\n",
       "    </tr>\n",
       "    <tr>\n",
       "      <td>3</td>\n",
       "      <td>Assam</td>\n",
       "      <td>43</td>\n",
       "      <td>32</td>\n",
       "      <td>1</td>\n",
       "      <td>0</td>\n",
       "      <td>43</td>\n",
       "    </tr>\n",
       "    <tr>\n",
       "      <td>4</td>\n",
       "      <td>Bihar</td>\n",
       "      <td>482</td>\n",
       "      <td>117</td>\n",
       "      <td>4</td>\n",
       "      <td>0</td>\n",
       "      <td>482</td>\n",
       "    </tr>\n",
       "  </tbody>\n",
       "</table>\n",
       "</div>"
      ],
      "text/plain": [
       "                      Location  Confirmed Cases [Indian]  Discharged  Deaths  \\\n",
       "0  Andaman and Nicobar Islands                        33          17       0   \n",
       "1               Andhra Pradesh                      1583         488      33   \n",
       "2            Arunachal Pradesh                         1           1       0   \n",
       "3                        Assam                        43          32       1   \n",
       "4                        Bihar                       482         117       4   \n",
       "\n",
       "   Confirmed Cases [Foreign]  Total Confirmed Cases  \n",
       "0                          0                     33  \n",
       "1                          0                   1583  \n",
       "2                          0                      1  \n",
       "3                          0                     43  \n",
       "4                          0                    482  "
      ]
     },
     "execution_count": 16,
     "metadata": {},
     "output_type": "execute_result"
    }
   ],
   "source": [
    "df_corona.head()"
   ]
  },
  {
   "cell_type": "markdown",
   "metadata": {},
   "source": [
    "# Exploratory Data Analysis"
   ]
  },
  {
   "cell_type": "code",
   "execution_count": 17,
   "metadata": {},
   "outputs": [],
   "source": [
    "# presetting the size of the images\n",
    "plt.rcParams['figure.figsize'] = 10, 8"
   ]
  },
  {
   "cell_type": "markdown",
   "metadata": {},
   "source": [
    "## Creating a barplot for the `Locations` and the `Total Confirmed Cases` in each location "
   ]
  },
  {
   "cell_type": "code",
   "execution_count": 18,
   "metadata": {},
   "outputs": [
    {
     "data": {
      "text/plain": [
       "<matplotlib.axes._subplots.AxesSubplot at 0x21bec95b548>"
      ]
     },
     "execution_count": 18,
     "metadata": {},
     "output_type": "execute_result"
    },
    {
     "data": {
      "image/png": "[encoded data removed]",
      "text/plain": [
       "<Figure size 720x576 with 1 Axes>"
      ]
     },
     "metadata": {
      "needs_background": "light"
     },
     "output_type": "display_data"
    }
   ],
   "source": [
    "# sorting the  dataframe in the descending order according to the 'Total Confirmed Cases'\n",
    "df_corona = df_corona.sort_values('Total Confirmed Cases', ascending=False)\n",
    "sns.barplot(x='Total Confirmed Cases', y='Location', data=df_corona)"
   ]
  },
  {
   "cell_type": "markdown",
   "metadata": {},
   "source": [
    "## Creating a barplot for the `Locations` and the `Deaths` in each location "
   ]
  },
  {
   "cell_type": "code",
   "execution_count": 19,
   "metadata": {},
   "outputs": [
    {
     "data": {
      "text/plain": [
       "<matplotlib.axes._subplots.AxesSubplot at 0x21becd73c08>"
      ]
     },
     "execution_count": 19,
     "metadata": {},
     "output_type": "execute_result"
    },
    {
     "data": {
      "image/png": "[encoded data removed]",
      "text/plain": [
       "<Figure size 720x576 with 1 Axes>"
      ]
     },
     "metadata": {
      "needs_background": "light"
     },
     "output_type": "display_data"
    }
   ],
   "source": [
    "# sorting the  dataframe in the descending order according to the 'Deaths\n",
    "df_corona = df_corona.sort_values('Deaths', ascending=False)\n",
    "sns.barplot(x='Deaths', y='Location', data=df_corona)"
   ]
  },
  {
   "cell_type": "markdown",
   "metadata": {},
   "source": [
    "# Converting the values of 'Total Confirmed Cases' to percentage for better understanding"
   ]
  },
  {
   "cell_type": "code",
   "execution_count": 20,
   "metadata": {},
   "outputs": [],
   "source": [
    "# finding percentage\n",
    "df_corona['Total Confirmed Cases (in %)'] = df_corona['Total Confirmed Cases'] / df_corona['Total Confirmed Cases'].sum() *100"
   ]
  },
  {
   "cell_type": "code",
   "execution_count": 21,
   "metadata": {},
   "outputs": [
    {
     "data": {
      "text/html": [
       "<div>\n",
       "<style scoped>\n",
       "    .dataframe tbody tr th:only-of-type {\n",
       "        vertical-align: middle;\n",
       "    }\n",
       "\n",
       "    .dataframe tbody tr th {\n",
       "        vertical-align: top;\n",
       "    }\n",
       "\n",
       "    .dataframe thead th {\n",
       "        text-align: right;\n",
       "    }\n",
       "</style>\n",
       "<table border=\"1\" class=\"dataframe\">\n",
       "  <thead>\n",
       "    <tr style=\"text-align: right;\">\n",
       "      <th></th>\n",
       "      <th>Location</th>\n",
       "      <th>Total Confirmed Cases (in %)</th>\n",
       "    </tr>\n",
       "  </thead>\n",
       "  <tbody>\n",
       "    <tr>\n",
       "      <td>18</td>\n",
       "      <td>Maharashtra</td>\n",
       "      <td>30.645000</td>\n",
       "    </tr>\n",
       "    <tr>\n",
       "      <td>9</td>\n",
       "      <td>Gujarat</td>\n",
       "      <td>12.598445</td>\n",
       "    </tr>\n",
       "    <tr>\n",
       "      <td>7</td>\n",
       "      <td>Delhi</td>\n",
       "      <td>10.273153</td>\n",
       "    </tr>\n",
       "    <tr>\n",
       "      <td>17</td>\n",
       "      <td>Madhya Pradesh</td>\n",
       "      <td>7.093012</td>\n",
       "    </tr>\n",
       "    <tr>\n",
       "      <td>25</td>\n",
       "      <td>Rajasthan</td>\n",
       "      <td>6.908583</td>\n",
       "    </tr>\n",
       "    <tr>\n",
       "      <td>26</td>\n",
       "      <td>Tamil Nadu</td>\n",
       "      <td>6.871199</td>\n",
       "    </tr>\n",
       "    <tr>\n",
       "      <td>30</td>\n",
       "      <td>Uttar Pradesh</td>\n",
       "      <td>6.544711</td>\n",
       "    </tr>\n",
       "    <tr>\n",
       "      <td>1</td>\n",
       "      <td>Andhra Pradesh</td>\n",
       "      <td>3.945270</td>\n",
       "    </tr>\n",
       "    <tr>\n",
       "      <td>27</td>\n",
       "      <td>Telengana</td>\n",
       "      <td>2.649287</td>\n",
       "    </tr>\n",
       "    <tr>\n",
       "      <td>31</td>\n",
       "      <td>West Bengal</td>\n",
       "      <td>2.297877</td>\n",
       "    </tr>\n",
       "    <tr>\n",
       "      <td>24</td>\n",
       "      <td>Punjab</td>\n",
       "      <td>1.924035</td>\n",
       "    </tr>\n",
       "    <tr>\n",
       "      <td>12</td>\n",
       "      <td>Jammu and Kashmir</td>\n",
       "      <td>1.659854</td>\n",
       "    </tr>\n",
       "    <tr>\n",
       "      <td>14</td>\n",
       "      <td>Karnataka</td>\n",
       "      <td>1.510318</td>\n",
       "    </tr>\n",
       "    <tr>\n",
       "      <td>15</td>\n",
       "      <td>Kerala</td>\n",
       "      <td>1.246137</td>\n",
       "    </tr>\n",
       "    <tr>\n",
       "      <td>4</td>\n",
       "      <td>Bihar</td>\n",
       "      <td>1.201276</td>\n",
       "    </tr>\n",
       "    <tr>\n",
       "      <td>10</td>\n",
       "      <td>Haryana</td>\n",
       "      <td>0.981956</td>\n",
       "    </tr>\n",
       "    <tr>\n",
       "      <td>22</td>\n",
       "      <td>Odisha</td>\n",
       "      <td>0.398764</td>\n",
       "    </tr>\n",
       "    <tr>\n",
       "      <td>13</td>\n",
       "      <td>Jharkhand</td>\n",
       "      <td>0.286612</td>\n",
       "    </tr>\n",
       "    <tr>\n",
       "      <td>5</td>\n",
       "      <td>Chandigarh</td>\n",
       "      <td>0.234274</td>\n",
       "    </tr>\n",
       "    <tr>\n",
       "      <td>29</td>\n",
       "      <td>Uttarakhand</td>\n",
       "      <td>0.147044</td>\n",
       "    </tr>\n",
       "    <tr>\n",
       "      <td>3</td>\n",
       "      <td>Assam</td>\n",
       "      <td>0.107168</td>\n",
       "    </tr>\n",
       "    <tr>\n",
       "      <td>6</td>\n",
       "      <td>Chhattisgarh</td>\n",
       "      <td>0.107168</td>\n",
       "    </tr>\n",
       "    <tr>\n",
       "      <td>11</td>\n",
       "      <td>Himachal Pradesh</td>\n",
       "      <td>0.099691</td>\n",
       "    </tr>\n",
       "    <tr>\n",
       "      <td>16</td>\n",
       "      <td>Ladakh</td>\n",
       "      <td>0.099691</td>\n",
       "    </tr>\n",
       "    <tr>\n",
       "      <td>0</td>\n",
       "      <td>Andaman and Nicobar Islands</td>\n",
       "      <td>0.082245</td>\n",
       "    </tr>\n",
       "    <tr>\n",
       "      <td>20</td>\n",
       "      <td>Meghalaya</td>\n",
       "      <td>0.029907</td>\n",
       "    </tr>\n",
       "    <tr>\n",
       "      <td>23</td>\n",
       "      <td>Puducherry</td>\n",
       "      <td>0.019938</td>\n",
       "    </tr>\n",
       "    <tr>\n",
       "      <td>8</td>\n",
       "      <td>Goa</td>\n",
       "      <td>0.017446</td>\n",
       "    </tr>\n",
       "    <tr>\n",
       "      <td>28</td>\n",
       "      <td>Tripura</td>\n",
       "      <td>0.009969</td>\n",
       "    </tr>\n",
       "    <tr>\n",
       "      <td>19</td>\n",
       "      <td>Manipur</td>\n",
       "      <td>0.004985</td>\n",
       "    </tr>\n",
       "    <tr>\n",
       "      <td>21</td>\n",
       "      <td>Mizoram</td>\n",
       "      <td>0.002492</td>\n",
       "    </tr>\n",
       "    <tr>\n",
       "      <td>2</td>\n",
       "      <td>Arunachal Pradesh</td>\n",
       "      <td>0.002492</td>\n",
       "    </tr>\n",
       "  </tbody>\n",
       "</table>\n",
       "</div>"
      ],
      "text/plain": [
       "                       Location  Total Confirmed Cases (in %)\n",
       "18                  Maharashtra                     30.645000\n",
       "9                       Gujarat                     12.598445\n",
       "7                         Delhi                     10.273153\n",
       "17               Madhya Pradesh                      7.093012\n",
       "25                    Rajasthan                      6.908583\n",
       "26                   Tamil Nadu                      6.871199\n",
       "30                Uttar Pradesh                      6.544711\n",
       "1                Andhra Pradesh                      3.945270\n",
       "27                    Telengana                      2.649287\n",
       "31                  West Bengal                      2.297877\n",
       "24                       Punjab                      1.924035\n",
       "12            Jammu and Kashmir                      1.659854\n",
       "14                    Karnataka                      1.510318\n",
       "15                       Kerala                      1.246137\n",
       "4                         Bihar                      1.201276\n",
       "10                      Haryana                      0.981956\n",
       "22                       Odisha                      0.398764\n",
       "13                    Jharkhand                      0.286612\n",
       "5                    Chandigarh                      0.234274\n",
       "29                  Uttarakhand                      0.147044\n",
       "3                         Assam                      0.107168\n",
       "6                  Chhattisgarh                      0.107168\n",
       "11             Himachal Pradesh                      0.099691\n",
       "16                       Ladakh                      0.099691\n",
       "0   Andaman and Nicobar Islands                      0.082245\n",
       "20                    Meghalaya                      0.029907\n",
       "23                   Puducherry                      0.019938\n",
       "8                           Goa                      0.017446\n",
       "28                      Tripura                      0.009969\n",
       "19                      Manipur                      0.004985\n",
       "21                      Mizoram                      0.002492\n",
       "2             Arunachal Pradesh                      0.002492"
      ]
     },
     "execution_count": 21,
     "metadata": {},
     "output_type": "execute_result"
    }
   ],
   "source": [
    "# accessing the columns Location and Total Confirmed Cases and then sorting the resultant dataframe in descending order\n",
    "df_corona[['Location', 'Total Confirmed Cases (in %)']].sort_values('Total Confirmed Cases (in %)', ascending=False)"
   ]
  },
  {
   "cell_type": "markdown",
   "metadata": {},
   "source": [
    "# Write the data to a csv file"
   ]
  },
  {
   "cell_type": "code",
   "execution_count": 22,
   "metadata": {},
   "outputs": [],
   "source": [
    "timestamp = last_refreshed_date + '_' + last_refreshed_time\n",
    "timestamp = timestamp.replace(':', '-')\n",
    "df_corona.to_csv('India_Covid_Cases_{}.csv'.format(timestamp), index=False)"
   ]
  }
 ],
 "metadata": {
  "kernelspec": {
   "display_name": "Python 3",
   "language": "python",
   "name": "python3"
  },
  "language_info": {
   "codemirror_mode": {
    "name": "ipython",
    "version": 3
   },
   "file_extension": ".py",
   "mimetype": "text/x-python",
   "name": "python",
   "nbconvert_exporter": "python",
   "pygments_lexer": "ipython3",
   "version": "3.7.4"
  }
 },
 "nbformat": 4,
 "nbformat_minor": 2
}
